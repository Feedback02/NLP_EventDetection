{
  "cells": [
    {
      "cell_type": "code",
      "execution_count": 1,
      "metadata": {
        "colab": {
          "base_uri": "https://localhost:8080/"
        },
        "id": "rHG1X25yHTP9",
        "outputId": "a37210cc-c6b7-4c9a-f03d-46778c6bc755"
      },
      "outputs": [
        {
          "name": "stdout",
          "output_type": "stream",
          "text": [
            "Drive already mounted at /content/drive; to attempt to forcibly remount, call drive.mount(\"/content/drive\", force_remount=True).\n"
          ]
        }
      ],
      "source": [
        "from google.colab import drive\n",
        "drive.mount('/content/drive')"
      ]
    },
    {
      "cell_type": "code",
      "execution_count": 2,
      "metadata": {
        "colab": {
          "base_uri": "https://localhost:8080/"
        },
        "id": "AvYiL2Dnp40i",
        "outputId": "fe2d5c75-90e2-4c99-fcef-5da7a8bc0369"
      },
      "outputs": [
        {
          "name": "stdout",
          "output_type": "stream",
          "text": [
            "Looking in indexes: https://pypi.org/simple, https://us-python.pkg.dev/colab-wheels/public/simple/\n",
            "Collecting seqeval\n",
            "  Downloading seqeval-1.2.2.tar.gz (43 kB)\n",
            "\u001b[?25l     \u001b[90m━━━━━━━━━━━━━━━━━━━━━━━━━━━━━━━━━━━━━━━━\u001b[0m \u001b[32m0.0/43.6 kB\u001b[0m \u001b[31m?\u001b[0m eta \u001b[36m-:--:--\u001b[0m\r\u001b[2K     \u001b[90m━━━━━━━━━━━━━━━━━━━━━━━━━━━━━━━━━━━━━━━━\u001b[0m \u001b[32m43.6/43.6 kB\u001b[0m \u001b[31m2.8 MB/s\u001b[0m eta \u001b[36m0:00:00\u001b[0m\n",
            "\u001b[?25h  Preparing metadata (setup.py) ... \u001b[?25l\u001b[?25hdone\n",
            "Requirement already satisfied: numpy>=1.14.0 in /usr/local/lib/python3.10/dist-packages (from seqeval) (1.22.4)\n",
            "Requirement already satisfied: scikit-learn>=0.21.3 in /usr/local/lib/python3.10/dist-packages (from seqeval) (1.2.2)\n",
            "Requirement already satisfied: scipy>=1.3.2 in /usr/local/lib/python3.10/dist-packages (from scikit-learn>=0.21.3->seqeval) (1.10.1)\n",
            "Requirement already satisfied: joblib>=1.1.1 in /usr/local/lib/python3.10/dist-packages (from scikit-learn>=0.21.3->seqeval) (1.2.0)\n",
            "Requirement already satisfied: threadpoolctl>=2.0.0 in /usr/local/lib/python3.10/dist-packages (from scikit-learn>=0.21.3->seqeval) (3.1.0)\n",
            "Building wheels for collected packages: seqeval\n",
            "  Building wheel for seqeval (setup.py) ... \u001b[?25l\u001b[?25hdone\n",
            "  Created wheel for seqeval: filename=seqeval-1.2.2-py3-none-any.whl size=16180 sha256=eeeed43cbf8eb82afc18a782f6bb8de54b19ed978154aa14c37d4681d3cdf2d0\n",
            "  Stored in directory: /root/.cache/pip/wheels/1a/67/4a/ad4082dd7dfc30f2abfe4d80a2ed5926a506eb8a972b4767fa\n",
            "Successfully built seqeval\n",
            "Installing collected packages: seqeval\n",
            "Successfully installed seqeval-1.2.2\n"
          ]
        }
      ],
      "source": [
        "!pip install seqeval"
      ]
    },
    {
      "cell_type": "code",
      "execution_count": 2,
      "metadata": {
        "id": "lz9iDQ6F5gbP"
      },
      "outputs": [],
      "source": [
        "import torch\n",
        "import torch.nn as nn\n",
        "from torch.utils.data import DataLoader\n",
        "from torch.nn.utils.rnn import pad_sequence\n",
        "import sys\n",
        "import json\n",
        "from tqdm.auto import tqdm\n",
        "from torch.utils.data import DataLoader\n",
        "from torch.nn.utils import clip_grad_norm\n",
        "import numpy as np\n",
        "from torch.nn.utils.rnn import pack_padded_sequence, pad_packed_sequence\n",
        "from seqeval.metrics import accuracy_score\n",
        "from seqeval.metrics import classification_report\n",
        "from seqeval.metrics import f1_score\n",
        "from seqeval.metrics import accuracy_score\n",
        "from seqeval.scheme import IOB2\n",
        "from sklearn.metrics import confusion_matrix\n",
        "from sklearn.preprocessing import MultiLabelBinarizer\n",
        "import seaborn as sns\n",
        "import matplotlib.pyplot as plt\n",
        "\n",
        "path = '/content/drive/MyDrive/magistrale/nlp/nlp2023-hw1-main/data/'\n",
        "path1 = '/content/drive/MyDrive/magistrale/nlp/nlp2023-hw1-main/hw1/'\n",
        "sys.path.append(path)"
      ]
    },
    {
      "cell_type": "code",
      "execution_count": 4,
      "metadata": {
        "colab": {
          "base_uri": "https://localhost:8080/"
        },
        "id": "psphj2WLdCF7",
        "outputId": "26aac756-39c1-4ae1-ba1c-951bf8497cb1"
      },
      "outputs": [
        {
          "name": "stdout",
          "output_type": "stream",
          "text": [
            "--2023-05-01 19:28:57--  http://nlp.stanford.edu/data/glove.6B.zip\n",
            "Resolving nlp.stanford.edu (nlp.stanford.edu)... 171.64.67.140\n",
            "Connecting to nlp.stanford.edu (nlp.stanford.edu)|171.64.67.140|:80... connected.\n",
            "HTTP request sent, awaiting response... 302 Found\n",
            "Location: https://nlp.stanford.edu/data/glove.6B.zip [following]\n",
            "--2023-05-01 19:28:57--  https://nlp.stanford.edu/data/glove.6B.zip\n",
            "Connecting to nlp.stanford.edu (nlp.stanford.edu)|171.64.67.140|:443... connected.\n",
            "HTTP request sent, awaiting response... 301 Moved Permanently\n",
            "Location: https://downloads.cs.stanford.edu/nlp/data/glove.6B.zip [following]\n",
            "--2023-05-01 19:28:57--  https://downloads.cs.stanford.edu/nlp/data/glove.6B.zip\n",
            "Resolving downloads.cs.stanford.edu (downloads.cs.stanford.edu)... 171.64.64.22\n",
            "Connecting to downloads.cs.stanford.edu (downloads.cs.stanford.edu)|171.64.64.22|:443... connected.\n",
            "HTTP request sent, awaiting response... 200 OK\n",
            "Length: 862182613 (822M) [application/zip]\n",
            "Saving to: ‘glove.6B.zip’\n",
            "\n",
            "glove.6B.zip        100%[===================>] 822.24M  5.05MB/s    in 2m 40s  \n",
            "\n",
            "2023-05-01 19:31:37 (5.14 MB/s) - ‘glove.6B.zip’ saved [862182613/862182613]\n",
            "\n",
            "Archive:  glove.6B.zip\n",
            "  inflating: glove.6B.50d.txt        \n",
            "  inflating: glove.6B.100d.txt       \n",
            "  inflating: glove.6B.200d.txt       \n",
            "  inflating: glove.6B.300d.txt       \n",
            "total 3039152\n",
            "drwxr-xr-x 1 root root       4096 May  1 19:31 .\n",
            "drwx------ 5 root root       4096 May  1 19:27 drive\n",
            "drwxr-xr-x 1 root root       4096 May  1 19:27 ..\n",
            "drwxr-xr-x 1 root root       4096 Apr 28 13:35 sample_data\n",
            "drwxr-xr-x 4 root root       4096 Apr 28 13:35 .config\n",
            "-rw-r--r-- 1 root root  862182613 Oct 25  2015 glove.6B.zip\n",
            "-rw-rw-r-- 1 root root 1037962819 Aug 27  2014 glove.6B.300d.txt\n",
            "-rw-rw-r-- 1 root root  171350079 Aug  4  2014 glove.6B.50d.txt\n",
            "-rw-rw-r-- 1 root root  693432828 Aug  4  2014 glove.6B.200d.txt\n",
            "-rw-rw-r-- 1 root root  347116733 Aug  4  2014 glove.6B.100d.txt\n"
          ]
        }
      ],
      "source": [
        "!wget http://nlp.stanford.edu/data/glove.6B.zip\n",
        "!unzip glove.6B.zip\n",
        "!ls -lat"
      ]
    },
    {
      "cell_type": "code",
      "execution_count": 3,
      "metadata": {
        "id": "HCnEYJNy7uSB"
      },
      "outputs": [],
      "source": [
        "import os\n",
        "import torch\n",
        "\n",
        "class Dictionary(object):\n",
        "    def __init__(self):\n",
        "\n",
        "        # Get the current directory\n",
        "        current_dir = os.getcwd()\n",
        "\n",
        "        # Get the path to the model weights file\n",
        "        glove_embeddings_path = os.path.join(\"model\", \"glove.6B.50d.txt\")\n",
        "        \n",
        "        # Define label-to-index mapping\n",
        "        self.label2idx = {\n",
        "         'O': 0,\n",
        "         'B-ACTION':1,\n",
        "         'B-CHANGE':2,\n",
        "         'B-SCENARIO':3,\n",
        "         'B-POSSESSION':4,\n",
        "         'B-SENTIMENT':5,\n",
        "         'I-SCENARIO':6,\n",
        "         'I-ACTION':7,\n",
        "         'I-CHANGE':8,\n",
        "         'I-SENTIMENT':9,\n",
        "         'I-POSSESSION':10\n",
        "          }\n",
        "\n",
        "        # Load glove embeddings\n",
        "        self.glove_tokens,self.glove_embeddings = self.process_glove_embeddings(glove_embeddings_path)\n",
        "        \n",
        "        # Build word-to-index and index-to-label mappings\n",
        "        self.word2idx = {word: index for index, word in enumerate(self.glove_tokens)}\n",
        "        self.idx2label = {v: k for k, v in self.label2idx.items()}\n",
        "\n",
        "    def process_glove_embeddings(self, path):\n",
        "        \"\"\"\n",
        "        This function processes the glove embeddings by loading them from a file and adding <unk> and <pad> tokens.\n",
        "        \"\"\"\n",
        "        glove_tokens = []\n",
        "        glove_embeddings = []\n",
        "\n",
        "        with open(path, 'rt') as f:\n",
        "            full_content = f.read().strip().split('\\n')\n",
        "            for i in range(len(full_content)):\n",
        "                i_word = full_content[i].split(' ')[0]\n",
        "                i_embeddings = [float(val) for val in full_content[i].split(' ')[1:]]\n",
        "                glove_tokens.append(i_word)\n",
        "                glove_embeddings.append(i_embeddings)\n",
        "\n",
        "        glove_embeddings = torch.tensor(glove_embeddings)\n",
        "\n",
        "        # Add <unk> token embedding as the mean of all other embeddings\n",
        "        glove_tokens.append(\"<unk>\")\n",
        "        unk_emb = torch.mean(glove_embeddings, dim=0, keepdim=True)\n",
        "        glove_embeddings = torch.cat((glove_embeddings,unk_emb))\n",
        "\n",
        "        # Add <pad> token embedding as zeros\n",
        "        glove_tokens.append(\"<pad>\")\n",
        "        pad_emb = torch.zeros((1, glove_embeddings.shape[1]))\n",
        "        glove_embeddings = torch.cat((glove_embeddings,pad_emb))\n",
        "\n",
        "        return (glove_tokens,glove_embeddings)\n",
        "\n",
        "    def get_embed_glove(self):\n",
        "        \"\"\"\n",
        "        This function returns the glove embeddings\n",
        "        \"\"\"\n",
        "        return self.glove_embeddings\n",
        "\n",
        "    def __len__(self):\n",
        "        \"\"\"\n",
        "        This function returns the length of the word-to-index mapping\n",
        "        \"\"\"\n",
        "        return len(self.word2idx)\n"
      ]
    },
    {
      "cell_type": "code",
      "execution_count": 4,
      "metadata": {
        "id": "kQcF1TZExl5j"
      },
      "outputs": [],
      "source": [
        "class TextProcessTrain(object):\n",
        "    # We indicate 1 as the unknown word\n",
        "    # And we indicate 0 as the padding\n",
        "\n",
        "    def __init__(self,dictionary):\n",
        "        self.dictionary = dictionary \n",
        "        self.x = []\n",
        "        self.y = []\n",
        "        self.max_length_word = 0\n",
        "        self.len = 0\n",
        "        # data loading\n",
        "\n",
        "\n",
        "    def get_data_train(self, datapath):\n",
        "        with open(path + datapath, 'r') as f:\n",
        "          for line in f:\n",
        "            data = json.loads(line)\n",
        "            self.x.append([ word.lower() for word in data['tokens'] ] )\n",
        "            self.y.append(data['labels'])\n",
        "\n",
        " \n",
        "        #for tokens in self.x:\n",
        "          #for token in tokens:\n",
        "          #  self.dictionary.add_word_training(token)\n",
        "              \n",
        "        self.max_length_word = max(len(t[0]) for t in self.x)\n",
        "        self.n_tokens = len(self.dictionary)\n",
        "\n",
        "    def get_data_test(self, datapath, max_length_word):\n",
        "      # here the vocabulary is already defined\n",
        "\n",
        "        with open(os.path.join(\"model\",datapath), 'r') as f:\n",
        "          for line in f:\n",
        "            data = json.loads(line)\n",
        "            self.x.append(data['tokens'])\n",
        "            self.y.append(data['labels'])\n",
        "        self.max_length_word = max_length_word\n",
        "\n",
        "\n",
        "    def __getitem__(self, index):\n",
        "      # so if the word doesn't exists ill return 1\n",
        "      #word = torch.LongTensor([ self.dictionary.word2idx.get(word, 1) or 1 for word in self.x[index] ])\n",
        "      #word_idxs = []\n",
        "      #for word in self.x[index]:\n",
        "      #  if dictionary.get_word_training(word):\n",
        "       #   word_idxs.append( self.dictionary.word2idx.get(word, self.dictionary.word2idx[\"<unk>\"]) )\n",
        "       # else:\n",
        "       #    word_idxs.append(self.dictionary.word2idx[\"<unk>\"])\n",
        "\n",
        "      word = torch.LongTensor([ self.dictionary.word2idx.get(word, self.dictionary.word2idx[\"<unk>\"]) for word in self.x[index] ])\n",
        "     # word = torch.LongTensor(word_idxs)\n",
        "      #word = torch.LongTensor(word_idxs)\n",
        "      label = torch.LongTensor([ self.dictionary.label2idx[label] for label in self.y[index] ])\n",
        "\n",
        "\n",
        "      # add padding to all the words and label so that they all are the same length\n",
        "      word = torch.nn.functional.pad(word, (0, self.max_length_word - len(word)), \"constant\",self.dictionary.word2idx[\"<pad>\"]  )\n",
        "      label = torch.nn.functional.pad(label, (0, self.max_length_word - len(label)), \"constant\",self.dictionary.word2idx[\"<pad>\"]  )\n",
        "      #print(word)\n",
        "      return  word,label\n",
        "\n",
        "        #return self.x[index], self.y[index]\n",
        "\n",
        "    def is_element_in_nested_list(list, element):\n",
        "        for sublist in list:\n",
        "            if element in sublist:\n",
        "                return True\n",
        "\n",
        "\n",
        "    def __len__(self):\n",
        "        return len(self.x)\n",
        "        "
      ]
    },
    {
      "cell_type": "code",
      "execution_count": null,
      "metadata": {
        "colab": {
          "base_uri": "https://localhost:8080/"
        },
        "id": "099AuM6imkGi",
        "outputId": "06224db0-1051-475b-99ee-425118e1b7d7"
      },
      "outputs": [
        {
          "name": "stdout",
          "output_type": "stream",
          "text": [
            "True\n"
          ]
        }
      ],
      "source": [
        "ks = [[1,2,3],[4,5,6]]\n",
        "print([1,2,3] in ks)"
      ]
    },
    {
      "cell_type": "code",
      "execution_count": 5,
      "metadata": {
        "id": "C29TZv3B0kS3"
      },
      "outputs": [],
      "source": [
        "class TextGenerator(nn.Module):\n",
        "    \n",
        "    def __init__(self, output_layer_size, vocab_size, hidden_size, num_layers, batch_size,dictionary):\n",
        "        super(TextGenerator, self).__init__()\n",
        "        self.num_embeddings, self.embedding_dim = dictionary.get_embed_glove().size()\n",
        "\n",
        "        self.hidden_size = hidden_size\n",
        "        self.batch_size = batch_size\n",
        "        self.output_layer_size = output_layer_size\n",
        "        self.num_layers = num_layers\n",
        "        #self.hidden = self.init_hidden()\n",
        "        \n",
        "        self.embed = torch.nn.Embedding.from_pretrained(dictionary.get_embed_glove(), padding_idx=dictionary.word2idx[\"<pad>\"], freeze=False) \n",
        "        #self.lstm = nn.LSTM( self.embedding_dim, hidden_size, num_layers, batch_first=True,bidirectional =True)\n",
        "        self.lstm = nn.GRU( self.embedding_dim, hidden_size, num_layers, batch_first=True,bidirectional =True)\n",
        "        #self.linear_01 = nn.Linear(hidden_size*2, output_layer_size)\n",
        "        self.linear_01 = nn.Linear(hidden_size*2, output_layer_size)\n",
        "        #self.linear_02 = nn.Linear(1024, output_layer_size)\n",
        "        #self.linear_03 = nn.Linear(1024, 1024)\n",
        "        #self.linear_03 = nn.Linear(1024, 512)\n",
        "        #self.linear_04 = nn.Linear(1024, output_layer_size)\n",
        "\n",
        "\n",
        "    def init_hidden(self):\n",
        "        # Before we've done anything, we dont have any hidden state.\n",
        "        # Refer to the Pytorch documentation to see exactly why they have this dimensionality.\n",
        "        # The axes semantics are (num_layers, minibatch_size, hidden_dim)\n",
        "        return (torch.zeros(2*self.num_layers, self.batch_size, self.hidden_size),\n",
        "                torch.zeros(2*self.num_layers, self.batch_size, self.hidden_size))\n",
        "        \n",
        "    def forward(self, x, epoch=0, optimizer=0):\n",
        "        #we change the learning rate and the embed. will start to train:https://stackoverflow.com/questions/58630101/using-torch-nn-embedding-for-glove-should-we-fine-tune-the-embeddings-or-just-u\n",
        "        if epoch==1 and self.embed.weight.requires_grad == False:\n",
        "          self.embed.weight.requires_grad = True\n",
        "          for param_group in optimizer.param_groups:\n",
        "             param_group['lr'] = 0.12\n",
        "        # Perform Word Embedding \n",
        "        #h,c = self.hidden\n",
        "        #torch.nn.init.xavier_normal_(h)\n",
        "        #torch.nn.init.xavier_normal_(c)\n",
        "      \n",
        "        embeds = self.embed(x)\n",
        "        #print(embeds.shape)\n",
        "        #Reshape the input tensor\n",
        "        #x = x.view(batch_size,timesteps,embed_size)\n",
        "        #print(self.hidden[0].shape)\n",
        "        #packed_embeds = pack_padded_sequence(a, [6], batch_first=True, enforce_sorted=False)\n",
        "        out, _ = self.lstm(embeds)\n",
        "        # Flatten output tensor for use in the linear layer\n",
        "        #print(out.shape)\n",
        "        #out = self.dropout(out)\n",
        "        out = self.linear_01(out)\n",
        "        #out = torch.nn.functional.relu(self.linear_02(out))\n",
        "        #out = self.dropout(out)\n",
        "        #out = self.linear_02(out)\n",
        "        #out = self.linear_01(out[:, -1])\n",
        "        #out = self.dropout(out)\n",
        "        #out = torch.nn.functional.relu(self.linear_03(out))\n",
        "        #out = self.dropout(out)\n",
        "        #out = self.linear_03(out)\n",
        "        #out = self.linear_04(out)\n",
        "        return out"
      ]
    },
    {
      "cell_type": "code",
      "execution_count": 6,
      "metadata": {
        "id": "NDgVhwOSN5pC"
      },
      "outputs": [],
      "source": [
        "hidden_size = 512  #Number of LSTM units\n",
        "num_layers = 1 \n",
        "num_epochs = 50 \n",
        "batch_size = 32\n",
        "learning_rate = 0.2\n"
      ]
    },
    {
      "cell_type": "code",
      "execution_count": 7,
      "metadata": {
        "id": "UzcXKE4uVYuU"
      },
      "outputs": [],
      "source": [
        "\n",
        "dictionary = Dictionary()\n",
        "corpusTrain = TextProcessTrain(dictionary)\n",
        "corpusTrain.get_data_train(\"train.jsonl\")\n",
        "\n",
        "corpusTest = TextProcessTrain(dictionary)\n",
        "corpusTest.get_data_test(\"test.jsonl\",corpusTrain.max_length_word)\n",
        "\n",
        "\n",
        "corpusVal = TextProcessTrain(dictionary)\n",
        "corpusVal.get_data_test(\"dev.jsonl\",corpusTrain.max_length_word)"
      ]
    },
    {
      "cell_type": "code",
      "execution_count": 8,
      "metadata": {
        "colab": {
          "base_uri": "https://localhost:8080/",
          "height": 101,
          "referenced_widgets": [
            "60c19a46860b4e5a8f617610f8ba8c52",
            "e224bfc66dab4840aad30e97b57e22a2",
            "80858edfe9c54e1eac8cd13b15d06b17",
            "9d32f91a388e424cb46e27f889f505b9",
            "a47a69fc40494c2ea640cd39f6c7b6d1",
            "935265f82666427b8758e4f78c46bcf6",
            "011ba755303a46cc9091208c583739a7",
            "932e2ec2d3604ce59e35b6502791806b",
            "ca7c7d3164e948feaf056ee73b949743",
            "87bf28ebf06c46758b44925f00c5a35c",
            "221f9fa75ddc46fdb57937621bc8b6a1"
          ]
        },
        "id": "BWLEO2UTVatN",
        "outputId": "3fea07d5-9820-4709-f68b-c9dba4a6e2af"
      },
      "outputs": [
        {
          "name": "stdout",
          "output_type": "stream",
          "text": [
            "Feature batch shape: torch.Size([32, 20])\n",
            "Labels batch shape: torch.Size([32, 20])\n"
          ]
        },
        {
          "data": {
            "application/vnd.jupyter.widget-view+json": {
              "model_id": "60c19a46860b4e5a8f617610f8ba8c52",
              "version_major": 2,
              "version_minor": 0
            },
            "text/plain": [
              "Batch: 0it [00:00, ?it/s]"
            ]
          },
          "metadata": {},
          "output_type": "display_data"
        },
        {
          "name": "stdout",
          "output_type": "stream",
          "text": [
            "torch.Size([32, 20])\n"
          ]
        }
      ],
      "source": [
        "\n",
        "train_loader = DataLoader(dataset=corpusTrain, batch_size=batch_size,shuffle=False,pin_memory=True)\n",
        "test_loader = DataLoader(dataset=corpusTest, batch_size=batch_size,shuffle=False,pin_memory=True,drop_last=True,num_workers=0)\n",
        "validation_loader = DataLoader(dataset=corpusVal, batch_size=batch_size,shuffle=False,pin_memory=True,drop_last=True,num_workers=0)\n",
        "\n",
        "# Display image and label.\n",
        "train_features, train_labels = next(iter(train_loader))\n",
        "print(f\"Feature batch shape: {train_features.size()}\")\n",
        "print(f\"Labels batch shape: {train_labels.size()}\")\n",
        "\n",
        "\n",
        "for step, sample in tqdm(enumerate( validation_loader ),desc=\"Batch\"):\n",
        "    print(sample[0].shape)\n",
        "    break"
      ]
    },
    {
      "cell_type": "code",
      "execution_count": 9,
      "metadata": {
        "colab": {
          "base_uri": "https://localhost:8080/"
        },
        "id": "RbvdPMfMV0rx",
        "outputId": "ac45499c-20fb-477e-fb7f-c244f8683e0d"
      },
      "outputs": [
        {
          "name": "stdout",
          "output_type": "stream",
          "text": [
            "400002\n",
            "11\n"
          ]
        }
      ],
      "source": [
        "vocab_size = len(corpusTrain.dictionary)\n",
        "output_layer_size = len(dictionary.label2idx)\n",
        "print(vocab_size)\n",
        "print(output_layer_size)"
      ]
    },
    {
      "cell_type": "code",
      "execution_count": 10,
      "metadata": {
        "colab": {
          "base_uri": "https://localhost:8080/"
        },
        "id": "vhab58O6V3mX",
        "outputId": "8293bc5c-3fa7-4219-b3c5-b90324d48e95"
      },
      "outputs": [
        {
          "name": "stdout",
          "output_type": "stream",
          "text": [
            "TextGenerator(\n",
            "  (embed): Embedding(400002, 50, padding_idx=400001)\n",
            "  (lstm): GRU(50, 512, batch_first=True, bidirectional=True)\n",
            "  (linear_01): Linear(in_features=1024, out_features=11, bias=True)\n",
            ")\n"
          ]
        }
      ],
      "source": [
        "model = TextGenerator(output_layer_size, vocab_size, hidden_size, num_layers,batch_size,dictionary)\n",
        "print(model)"
      ]
    },
    {
      "cell_type": "code",
      "execution_count": 11,
      "metadata": {
        "colab": {
          "base_uri": "https://localhost:8080/"
        },
        "id": "O8Log5byV76g",
        "outputId": "acac41a3-35cd-4927-ec59-cfb2dfb75209"
      },
      "outputs": [
        {
          "name": "stdout",
          "output_type": "stream",
          "text": [
            "400001\n"
          ]
        },
        {
          "data": {
            "text/plain": [
              "TextGenerator(\n",
              "  (embed): Embedding(400002, 50, padding_idx=400001)\n",
              "  (lstm): GRU(50, 512, batch_first=True, bidirectional=True)\n",
              "  (linear_01): Linear(in_features=1024, out_features=11, bias=True)\n",
              ")"
            ]
          },
          "execution_count": 11,
          "metadata": {},
          "output_type": "execute_result"
        }
      ],
      "source": [
        "loss_fn = nn.CrossEntropyLoss(ignore_index=dictionary.word2idx[\"<pad>\"])\n",
        "optimizer = torch.optim.SGD(model.parameters(), lr=learning_rate)\n",
        "print(dictionary.word2idx[\"<pad>\"])\n",
        "\n",
        "\n",
        "\n",
        "model.load_state_dict(torch.load(os.path.join(\"model\", \"model_weights.pth\")))\n",
        "model.eval()"
      ]
    },
    {
      "cell_type": "code",
      "execution_count": null,
      "metadata": {
        "colab": {
          "base_uri": "https://localhost:8080/",
          "height": 171,
          "referenced_widgets": [
            "1b1da0e4062f448eb941763ae013fef1",
            "377bcc373a10485ea2a3603cb3f8f7cc",
            "01b87d43014249d3bc5e9c2711300039",
            "79eb6d0788034e96b2e1573197a93bf2",
            "08b4437a004c4b6eabd42ceb8b8886f9",
            "55aab21db3c24a55a1c116595cfb7e27",
            "42398d0b57ef427eabbab0f5e4ab104d",
            "f3914d57d9dc481c8b62498b2bb2ff43",
            "c6d01faaa81243dbb662446c6ca204ae",
            "078e00f06cc541c89fb2e6e063e8c6b5",
            "800bb4098ba04332b57e46404cf8298b"
          ]
        },
        "id": "vU_6ZuYoV9_8",
        "outputId": "7bfac951-2dbf-4cb4-96c3-4344dec72739"
      },
      "outputs": [
        {
          "data": {
            "application/vnd.jupyter.widget-view+json": {
              "model_id": "1b1da0e4062f448eb941763ae013fef1",
              "version_major": 2,
              "version_minor": 0
            },
            "text/plain": [
              "Batch: 0it [00:00, ?it/s]"
            ]
          },
          "metadata": {},
          "output_type": "display_data"
        },
        {
          "name": "stderr",
          "output_type": "stream",
          "text": [
            "<ipython-input-14-676bdd3a2bcc>:32: UserWarning: torch.nn.utils.clip_grad_norm is now deprecated in favor of torch.nn.utils.clip_grad_norm_.\n",
            "  clip_grad_norm(model.parameters(), 0.5)\n"
          ]
        },
        {
          "name": "stdout",
          "output_type": "stream",
          "text": [
            "Epoch: 0 avg loss = 0.0967 loss = 0.0967 \n",
            "Epoch: 0 avg loss = 0.1064 loss = 0.1219 \n",
            "Epoch: 0 avg loss = 0.1070 loss = 0.0939 \n",
            "Epoch: 0 avg loss = 0.1081 loss = 0.1374 \n",
            "Epoch: 0 avg loss = 0.1072 loss = 0.1170 \n"
          ]
        }
      ],
      "source": [
        "train_loss = 0.0\n",
        "\n",
        "for epoch in range(num_epochs):\n",
        "\n",
        "\n",
        "    epoch_loss = 0.0\n",
        "    len_train = 0\n",
        "    target_tokens = []\n",
        "    output_tokens = []\n",
        "\n",
        "    with tqdm(enumerate( train_loader ),desc=\"Batch\", leave=False) as data:\n",
        "      \n",
        "      for step, sample in data:\n",
        "\n",
        "          model.zero_grad()\n",
        "          inputs = sample[0]\n",
        "          targets = sample[1] \n",
        "          model.hidden = model.init_hidden()\n",
        "          # Also, we need to clear out the hidden state of the LSTM, detaching it from its\n",
        "          # history on the last instance.           targets.reshape(-1)\n",
        "          \n",
        "\n",
        "          outputs = model(inputs,step,optimizer)\n",
        "\n",
        "          #print(targets[:,:11].shape)\n",
        "          loss = loss_fn(outputs.view(-1, outputs.shape[-1]), targets.view(-1))\n",
        "\n",
        "         \n",
        "          loss.backward()\n",
        "          #Perform Gradient Clipping. clip_value (float or int) is the maximum allowed value of the gradients \n",
        "          #The gradients are clipped in the range [-clip_value, clip_value]. This is to prevent the exploding gradient problem\n",
        "          clip_grad_norm(model.parameters(), 0.5)\n",
        "          optimizer.step()\n",
        "          epoch_loss += loss.item()\n",
        "          len_train += 1\n",
        "    \n",
        "          avg_epoch_loss = epoch_loss / len_train     \n",
        "          if step % 10 == 0:\n",
        "            print('Epoch: {} avg loss = {:0.4f} loss = {:0.4f} '.format(epoch, avg_epoch_loss,loss.item()))\n",
        "\n",
        "          train_loss += avg_epoch_loss\n",
        "    # At the end of the epoch we evaluate the model for tuning\n",
        "    with torch.no_grad():\n",
        "     with tqdm(enumerate( validation_loader ),desc=\"Batch\", leave=False) as data:\n",
        "      for step, sample in data:\n",
        "            inputs = sample[0]\n",
        "            targets = sample[1]\n",
        "\n",
        "            #print(targets)\n",
        "            output = model(inputs)\n",
        "            #print(torch.argmax(output,-1))\n",
        "            #fscore = F_score(torch.argmax(output,-1), targets)\n",
        "\n",
        "            #convert from id to tokens \n",
        "            #delete the paddings to evaluate\n",
        "            for true,pred in zip(targets,torch.argmax(output,-1)):\n",
        "\n",
        "              if dictionary.word2idx[\"<pad>\"] in true:\n",
        "                start_index = true.tolist().index(dictionary.word2idx[\"<pad>\"])\n",
        "    \n",
        "                true = true[:start_index]\n",
        "                true = [dictionary.idx2label[idx.item()] for idx in true]\n",
        "\n",
        "                target_tokens.append(true)\n",
        "\n",
        "                pred = pred[:start_index]\n",
        "                pred = [dictionary.idx2label[idx.item()] for idx in pred]\n",
        "                output_tokens.append(pred)\n",
        "              else:\n",
        "                true = [dictionary.idx2label[idx.item()] for idx in true]\n",
        "                target_tokens.append(true)\n",
        "                pred = [dictionary.idx2label[idx.item()] for idx in pred]\n",
        "                output_tokens.append(pred)\n",
        "    print(\"f1 score:\"+str(f1_score(target_tokens, output_tokens, mode=\"strict\", scheme=IOB2,zero_division=False)))                \n",
        "\n",
        "\n",
        "avg_epoch_loss = train_loss / num_epochs\n",
        "\n",
        "print(\"avarage epoch loss = \" + str(avg_epoch_loss))"
      ]
    },
    {
      "cell_type": "code",
      "execution_count": 12,
      "metadata": {
        "colab": {
          "base_uri": "https://localhost:8080/",
          "height": 17,
          "referenced_widgets": [
            "6d718d5d3c264ef4887a85d507f4f3bc",
            "53ac800f85674a5d8a67c1ab9f9d4a1d",
            "7939b027b98c46b99664e6793075e369",
            "bc478631a7704b32bb6f1d287a7d9850",
            "2b07c1f6bfe5401ba1995c8812989499",
            "5822ba6edd61428183c011149bda937e",
            "f167e0e39cba4860a3be6cf9ef47df43",
            "c9630696f94d4b98abc29a980c2546fb",
            "976f2e0eca2445ec99c1e7d7b77a00ef",
            "8b8e2062d2b74d569c5b505d713a394b",
            "4ce95de7a42442468ef1f7d22bf9fb7b"
          ]
        },
        "id": "2BZx50w-ttqE",
        "outputId": "76454f30-7e17-4fc7-b028-8bebbcd12973"
      },
      "outputs": [
        {
          "data": {
            "application/vnd.jupyter.widget-view+json": {
              "model_id": "6d718d5d3c264ef4887a85d507f4f3bc",
              "version_major": 2,
              "version_minor": 0
            },
            "text/plain": [
              "Batch: 0it [00:00, ?it/s]"
            ]
          },
          "metadata": {},
          "output_type": "display_data"
        }
      ],
      "source": [
        "\n",
        "\n",
        "torch.set_printoptions(sci_mode=False,threshold=sys.maxsize)\n",
        "\n",
        "\n",
        "\n",
        "target_tokens = []\n",
        "output_tokens = []\n",
        "# Test the model\n",
        "with torch.no_grad():\n",
        "    with tqdm(enumerate( test_loader ),desc=\"Batch\", leave=False) as data:\n",
        "      for step, sample in data:\n",
        "            inputs = sample[0]\n",
        "            targets = sample[1]\n",
        "\n",
        "            #print(targets)\n",
        "            output = model(inputs)\n",
        "            #print(torch.argmax(output,-1))\n",
        "\n",
        "            #convert from id to tokens \n",
        "            #delete the paddings to evaluate\n",
        "            for true,pred in zip(targets,torch.argmax(output,-1)):\n",
        "\n",
        "              if dictionary.word2idx[\"<pad>\"] in true:\n",
        "                start_index = true.tolist().index(dictionary.word2idx[\"<pad>\"])\n",
        "    \n",
        "                true = true[:start_index]\n",
        "                true = [dictionary.idx2label[idx.item()] for idx in true]\n",
        "\n",
        "                target_tokens.append(true)\n",
        "\n",
        "                pred = pred[:start_index]\n",
        "                pred = [dictionary.idx2label[idx.item()] for idx in pred]\n",
        "                output_tokens.append(pred)\n",
        "              else:\n",
        "                true = [dictionary.idx2label[idx.item()] for idx in true]\n",
        "                target_tokens.append(true)\n",
        "                pred = [dictionary.idx2label[idx.item()] for idx in pred]\n",
        "                output_tokens.append(pred)\n",
        "\n",
        "\n"
      ]
    },
    {
      "cell_type": "code",
      "execution_count": 13,
      "metadata": {
        "colab": {
          "base_uri": "https://localhost:8080/"
        },
        "id": "kr63nUThzesh",
        "outputId": "d803560e-6faa-492e-e5b0-e5023d53bc1d"
      },
      "outputs": [
        {
          "name": "stdout",
          "output_type": "stream",
          "text": [
            "classification score:\n",
            "              precision    recall  f1-score   support\n",
            "\n",
            "      ACTION       0.67      0.76      0.71      1689\n",
            "      CHANGE       0.76      0.76      0.76      1002\n",
            "  POSSESSION       0.76      0.71      0.73       211\n",
            "    SCENARIO       0.68      0.73      0.70       506\n",
            "   SENTIMENT       0.67      0.67      0.67       237\n",
            "\n",
            "   micro avg       0.70      0.75      0.72      3645\n",
            "   macro avg       0.71      0.72      0.72      3645\n",
            "weighted avg       0.70      0.75      0.72      3645\n",
            "\n",
            "f1 score:0.7151931108828732\n",
            "accuracy score:0.9473846067824093\n"
          ]
        }
      ],
      "source": [
        "print(\"classification score:\\n\"+str(classification_report(target_tokens, output_tokens, mode=\"strict\", scheme=IOB2)))\n",
        "print(\"f1 score:\"+str(f1_score(target_tokens, output_tokens, mode=\"strict\",average=\"macro\", scheme=IOB2,zero_division=False)))\n",
        "print(\"accuracy score:\"+str(accuracy_score(output_tokens, target_tokens)))"
      ]
    },
    {
      "cell_type": "code",
      "execution_count": null,
      "metadata": {
        "colab": {
          "base_uri": "https://localhost:8080/"
        },
        "id": "4cSOC2HseqIY",
        "outputId": "82fadc79-4504-4ef0-c19c-ef26be199d8c"
      },
      "outputs": [
        {
          "data": {
            "text/plain": [
              "['O',\n",
              " 'B-ACTION',\n",
              " 'B-CHANGE',\n",
              " 'B-SCENARIO',\n",
              " 'B-POSSESSION',\n",
              " 'B-SENTIMENT',\n",
              " 'I-SCENARIO',\n",
              " 'I-ACTION',\n",
              " 'I-CHANGE',\n",
              " 'I-SENTIMENT',\n",
              " 'I-POSSESSION']"
            ]
          },
          "execution_count": 121,
          "metadata": {},
          "output_type": "execute_result"
        }
      ],
      "source": [
        "list(dictionary.label2idx.keys())"
      ]
    },
    {
      "cell_type": "code",
      "execution_count": 92,
      "metadata": {
        "colab": {
          "base_uri": "https://localhost:8080/",
          "height": 944
        },
        "id": "jLvVo9tNx9cM",
        "outputId": "3a2abf35-f434-41c5-fa41-92aced4c5fc6"
      },
      "outputs": [
        {
          "data": {
            "image/png": "[encoded data removed]",
            "text/plain": [
              "<Figure size 1000x1000 with 2 Axes>"
            ]
          },
          "metadata": {},
          "output_type": "display_data"
        }
      ],
      "source": [
        "\n",
        "categories = list(dictionary.label2idx.keys())\n",
        "\n",
        "\n",
        "fig, ax = plt.subplots(figsize=(10, 10))\n",
        "\n",
        "target_tokens_flat = np.array([label for sentence_labels in target_tokens for label in sentence_labels])\n",
        "output_tokens_flat = np.array([label for sentence_labels in output_tokens for label in sentence_labels])\n",
        "#print(target_tokens_flat)\n",
        "# Compute the confusion matrix\n",
        "cm = confusion_matrix(target_tokens_flat, output_tokens_flat, labels=categories)\n",
        "#print(cm)\n",
        "# Format the numbers in the confusion matrix\n",
        "fmt = '.2%'\n",
        "total_predictions = np.sum(cm)\n",
        "annot = np.empty_like(cm).astype(str)\n",
        "cm = np.array(cm)\n",
        "\n",
        "#needed to compute the percentage\n",
        "column_sums = [np.sum(cm[:, i], axis=0) for i in range(cm.shape[0])]\n",
        "#print(column_sums)\n",
        "result = [(cm[:, i] / (column_sums[i]+0.0000001)).round(4) for i in range(cm.shape[1])]\n",
        "\n",
        "\n",
        "#result = np.transpose(result)\n",
        "#print(result)\n",
        "\n",
        "# Plot the confusion matrix as a \n",
        "sns.heatmap(result, annot=result, fmt=fmt, cmap='flare',xticklabels=categories, yticklabels=categories,vmin=0, vmax=1)\n",
        "\n",
        "ax.set_xlabel('Predicted')\n",
        "ax.set_ylabel('Actual')\n",
        "\n",
        "plt.show()"
      ]
    }
  ],
  "metadata": {
    "colab": {
      "provenance": []
    },
    "gpuClass": "standard",
    "kernelspec": {
      "display_name": "Python 3",
      "name": "python3"
    },
    "language_info": {
      "name": "python"
    },
    "widgets": {
      "application/vnd.jupyter.widget-state+json": {
        "011ba755303a46cc9091208c583739a7": {
          "model_module": "@jupyter-widgets/controls",
          "model_module_version": "1.5.0",
          "model_name": "DescriptionStyleModel",
          "state": {
            "_model_module": "@jupyter-widgets/controls",
            "_model_module_version": "1.5.0",
            "_model_name": "DescriptionStyleModel",
            "_view_count": null,
            "_view_module": "@jupyter-widgets/base",
            "_view_module_version": "1.2.0",
            "_view_name": "StyleView",
            "description_width": ""
          }
        },
        "01b87d43014249d3bc5e9c2711300039": {
          "model_module": "@jupyter-widgets/controls",
          "model_module_version": "1.5.0",
          "model_name": "FloatProgressModel",
          "state": {
            "_dom_classes": [],
            "_model_module": "@jupyter-widgets/controls",
            "_model_module_version": "1.5.0",
            "_model_name": "FloatProgressModel",
            "_view_count": null,
            "_view_module": "@jupyter-widgets/controls",
            "_view_module_version": "1.5.0",
            "_view_name": "ProgressView",
            "bar_style": "info",
            "description": "",
            "description_tooltip": null,
            "layout": "IPY_MODEL_f3914d57d9dc481c8b62498b2bb2ff43",
            "max": 1,
            "min": 0,
            "orientation": "horizontal",
            "style": "IPY_MODEL_c6d01faaa81243dbb662446c6ca204ae",
            "value": 1
          }
        },
        "078e00f06cc541c89fb2e6e063e8c6b5": {
          "model_module": "@jupyter-widgets/base",
          "model_module_version": "1.2.0",
          "model_name": "LayoutModel",
          "state": {
            "_model_module": "@jupyter-widgets/base",
            "_model_module_version": "1.2.0",
            "_model_name": "LayoutModel",
            "_view_count": null,
            "_view_module": "@jupyter-widgets/base",
            "_view_module_version": "1.2.0",
            "_view_name": "LayoutView",
            "align_content": null,
            "align_items": null,
            "align_self": null,
            "border": null,
            "bottom": null,
            "display": null,
            "flex": null,
            "flex_flow": null,
            "grid_area": null,
            "grid_auto_columns": null,
            "grid_auto_flow": null,
            "grid_auto_rows": null,
            "grid_column": null,
            "grid_gap": null,
            "grid_row": null,
            "grid_template_areas": null,
            "grid_template_columns": null,
            "grid_template_rows": null,
            "height": null,
            "justify_content": null,
            "justify_items": null,
            "left": null,
            "margin": null,
            "max_height": null,
            "max_width": null,
            "min_height": null,
            "min_width": null,
            "object_fit": null,
            "object_position": null,
            "order": null,
            "overflow": null,
            "overflow_x": null,
            "overflow_y": null,
            "padding": null,
            "right": null,
            "top": null,
            "visibility": null,
            "width": null
          }
        },
        "08b4437a004c4b6eabd42ceb8b8886f9": {
          "model_module": "@jupyter-widgets/base",
          "model_module_version": "1.2.0",
          "model_name": "LayoutModel",
          "state": {
            "_model_module": "@jupyter-widgets/base",
            "_model_module_version": "1.2.0",
            "_model_name": "LayoutModel",
            "_view_count": null,
            "_view_module": "@jupyter-widgets/base",
            "_view_module_version": "1.2.0",
            "_view_name": "LayoutView",
            "align_content": null,
            "align_items": null,
            "align_self": null,
            "border": null,
            "bottom": null,
            "display": null,
            "flex": null,
            "flex_flow": null,
            "grid_area": null,
            "grid_auto_columns": null,
            "grid_auto_flow": null,
            "grid_auto_rows": null,
            "grid_column": null,
            "grid_gap": null,
            "grid_row": null,
            "grid_template_areas": null,
            "grid_template_columns": null,
            "grid_template_rows": null,
            "height": null,
            "justify_content": null,
            "justify_items": null,
            "left": null,
            "margin": null,
            "max_height": null,
            "max_width": null,
            "min_height": null,
            "min_width": null,
            "object_fit": null,
            "object_position": null,
            "order": null,
            "overflow": null,
            "overflow_x": null,
            "overflow_y": null,
            "padding": null,
            "right": null,
            "top": null,
            "visibility": null,
            "width": null
          }
        },
        "1b1da0e4062f448eb941763ae013fef1": {
          "model_module": "@jupyter-widgets/controls",
          "model_module_version": "1.5.0",
          "model_name": "HBoxModel",
          "state": {
            "_dom_classes": [],
            "_model_module": "@jupyter-widgets/controls",
            "_model_module_version": "1.5.0",
            "_model_name": "HBoxModel",
            "_view_count": null,
            "_view_module": "@jupyter-widgets/controls",
            "_view_module_version": "1.5.0",
            "_view_name": "HBoxView",
            "box_style": "",
            "children": [
              "IPY_MODEL_377bcc373a10485ea2a3603cb3f8f7cc",
              "IPY_MODEL_01b87d43014249d3bc5e9c2711300039",
              "IPY_MODEL_79eb6d0788034e96b2e1573197a93bf2"
            ],
            "layout": "IPY_MODEL_08b4437a004c4b6eabd42ceb8b8886f9"
          }
        },
        "221f9fa75ddc46fdb57937621bc8b6a1": {
          "model_module": "@jupyter-widgets/controls",
          "model_module_version": "1.5.0",
          "model_name": "DescriptionStyleModel",
          "state": {
            "_model_module": "@jupyter-widgets/controls",
            "_model_module_version": "1.5.0",
            "_model_name": "DescriptionStyleModel",
            "_view_count": null,
            "_view_module": "@jupyter-widgets/base",
            "_view_module_version": "1.2.0",
            "_view_name": "StyleView",
            "description_width": ""
          }
        },
        "2b07c1f6bfe5401ba1995c8812989499": {
          "model_module": "@jupyter-widgets/base",
          "model_module_version": "1.2.0",
          "model_name": "LayoutModel",
          "state": {
            "_model_module": "@jupyter-widgets/base",
            "_model_module_version": "1.2.0",
            "_model_name": "LayoutModel",
            "_view_count": null,
            "_view_module": "@jupyter-widgets/base",
            "_view_module_version": "1.2.0",
            "_view_name": "LayoutView",
            "align_content": null,
            "align_items": null,
            "align_self": null,
            "border": null,
            "bottom": null,
            "display": null,
            "flex": null,
            "flex_flow": null,
            "grid_area": null,
            "grid_auto_columns": null,
            "grid_auto_flow": null,
            "grid_auto_rows": null,
            "grid_column": null,
            "grid_gap": null,
            "grid_row": null,
            "grid_template_areas": null,
            "grid_template_columns": null,
            "grid_template_rows": null,
            "height": null,
            "justify_content": null,
            "justify_items": null,
            "left": null,
            "margin": null,
            "max_height": null,
            "max_width": null,
            "min_height": null,
            "min_width": null,
            "object_fit": null,
            "object_position": null,
            "order": null,
            "overflow": null,
            "overflow_x": null,
            "overflow_y": null,
            "padding": null,
            "right": null,
            "top": null,
            "visibility": "hidden",
            "width": null
          }
        },
        "377bcc373a10485ea2a3603cb3f8f7cc": {
          "model_module": "@jupyter-widgets/controls",
          "model_module_version": "1.5.0",
          "model_name": "HTMLModel",
          "state": {
            "_dom_classes": [],
            "_model_module": "@jupyter-widgets/controls",
            "_model_module_version": "1.5.0",
            "_model_name": "HTMLModel",
            "_view_count": null,
            "_view_module": "@jupyter-widgets/controls",
            "_view_module_version": "1.5.0",
            "_view_name": "HTMLView",
            "description": "",
            "description_tooltip": null,
            "layout": "IPY_MODEL_55aab21db3c24a55a1c116595cfb7e27",
            "placeholder": "​",
            "style": "IPY_MODEL_42398d0b57ef427eabbab0f5e4ab104d",
            "value": "Batch: "
          }
        },
        "42398d0b57ef427eabbab0f5e4ab104d": {
          "model_module": "@jupyter-widgets/controls",
          "model_module_version": "1.5.0",
          "model_name": "DescriptionStyleModel",
          "state": {
            "_model_module": "@jupyter-widgets/controls",
            "_model_module_version": "1.5.0",
            "_model_name": "DescriptionStyleModel",
            "_view_count": null,
            "_view_module": "@jupyter-widgets/base",
            "_view_module_version": "1.2.0",
            "_view_name": "StyleView",
            "description_width": ""
          }
        },
        "4ce95de7a42442468ef1f7d22bf9fb7b": {
          "model_module": "@jupyter-widgets/controls",
          "model_module_version": "1.5.0",
          "model_name": "DescriptionStyleModel",
          "state": {
            "_model_module": "@jupyter-widgets/controls",
            "_model_module_version": "1.5.0",
            "_model_name": "DescriptionStyleModel",
            "_view_count": null,
            "_view_module": "@jupyter-widgets/base",
            "_view_module_version": "1.2.0",
            "_view_name": "StyleView",
            "description_width": ""
          }
        },
        "53ac800f85674a5d8a67c1ab9f9d4a1d": {
          "model_module": "@jupyter-widgets/controls",
          "model_module_version": "1.5.0",
          "model_name": "HTMLModel",
          "state": {
            "_dom_classes": [],
            "_model_module": "@jupyter-widgets/controls",
            "_model_module_version": "1.5.0",
            "_model_name": "HTMLModel",
            "_view_count": null,
            "_view_module": "@jupyter-widgets/controls",
            "_view_module_version": "1.5.0",
            "_view_name": "HTMLView",
            "description": "",
            "description_tooltip": null,
            "layout": "IPY_MODEL_5822ba6edd61428183c011149bda937e",
            "placeholder": "​",
            "style": "IPY_MODEL_f167e0e39cba4860a3be6cf9ef47df43",
            "value": "Batch: "
          }
        },
        "55aab21db3c24a55a1c116595cfb7e27": {
          "model_module": "@jupyter-widgets/base",
          "model_module_version": "1.2.0",
          "model_name": "LayoutModel",
          "state": {
            "_model_module": "@jupyter-widgets/base",
            "_model_module_version": "1.2.0",
            "_model_name": "LayoutModel",
            "_view_count": null,
            "_view_module": "@jupyter-widgets/base",
            "_view_module_version": "1.2.0",
            "_view_name": "LayoutView",
            "align_content": null,
            "align_items": null,
            "align_self": null,
            "border": null,
            "bottom": null,
            "display": null,
            "flex": null,
            "flex_flow": null,
            "grid_area": null,
            "grid_auto_columns": null,
            "grid_auto_flow": null,
            "grid_auto_rows": null,
            "grid_column": null,
            "grid_gap": null,
            "grid_row": null,
            "grid_template_areas": null,
            "grid_template_columns": null,
            "grid_template_rows": null,
            "height": null,
            "justify_content": null,
            "justify_items": null,
            "left": null,
            "margin": null,
            "max_height": null,
            "max_width": null,
            "min_height": null,
            "min_width": null,
            "object_fit": null,
            "object_position": null,
            "order": null,
            "overflow": null,
            "overflow_x": null,
            "overflow_y": null,
            "padding": null,
            "right": null,
            "top": null,
            "visibility": null,
            "width": null
          }
        },
        "5822ba6edd61428183c011149bda937e": {
          "model_module": "@jupyter-widgets/base",
          "model_module_version": "1.2.0",
          "model_name": "LayoutModel",
          "state": {
            "_model_module": "@jupyter-widgets/base",
            "_model_module_version": "1.2.0",
            "_model_name": "LayoutModel",
            "_view_count": null,
            "_view_module": "@jupyter-widgets/base",
            "_view_module_version": "1.2.0",
            "_view_name": "LayoutView",
            "align_content": null,
            "align_items": null,
            "align_self": null,
            "border": null,
            "bottom": null,
            "display": null,
            "flex": null,
            "flex_flow": null,
            "grid_area": null,
            "grid_auto_columns": null,
            "grid_auto_flow": null,
            "grid_auto_rows": null,
            "grid_column": null,
            "grid_gap": null,
            "grid_row": null,
            "grid_template_areas": null,
            "grid_template_columns": null,
            "grid_template_rows": null,
            "height": null,
            "justify_content": null,
            "justify_items": null,
            "left": null,
            "margin": null,
            "max_height": null,
            "max_width": null,
            "min_height": null,
            "min_width": null,
            "object_fit": null,
            "object_position": null,
            "order": null,
            "overflow": null,
            "overflow_x": null,
            "overflow_y": null,
            "padding": null,
            "right": null,
            "top": null,
            "visibility": null,
            "width": null
          }
        },
        "60c19a46860b4e5a8f617610f8ba8c52": {
          "model_module": "@jupyter-widgets/controls",
          "model_module_version": "1.5.0",
          "model_name": "HBoxModel",
          "state": {
            "_dom_classes": [],
            "_model_module": "@jupyter-widgets/controls",
            "_model_module_version": "1.5.0",
            "_model_name": "HBoxModel",
            "_view_count": null,
            "_view_module": "@jupyter-widgets/controls",
            "_view_module_version": "1.5.0",
            "_view_name": "HBoxView",
            "box_style": "",
            "children": [
              "IPY_MODEL_e224bfc66dab4840aad30e97b57e22a2",
              "IPY_MODEL_80858edfe9c54e1eac8cd13b15d06b17",
              "IPY_MODEL_9d32f91a388e424cb46e27f889f505b9"
            ],
            "layout": "IPY_MODEL_a47a69fc40494c2ea640cd39f6c7b6d1"
          }
        },
        "6d718d5d3c264ef4887a85d507f4f3bc": {
          "model_module": "@jupyter-widgets/controls",
          "model_module_version": "1.5.0",
          "model_name": "HBoxModel",
          "state": {
            "_dom_classes": [],
            "_model_module": "@jupyter-widgets/controls",
            "_model_module_version": "1.5.0",
            "_model_name": "HBoxModel",
            "_view_count": null,
            "_view_module": "@jupyter-widgets/controls",
            "_view_module_version": "1.5.0",
            "_view_name": "HBoxView",
            "box_style": "",
            "children": [
              "IPY_MODEL_53ac800f85674a5d8a67c1ab9f9d4a1d",
              "IPY_MODEL_7939b027b98c46b99664e6793075e369",
              "IPY_MODEL_bc478631a7704b32bb6f1d287a7d9850"
            ],
            "layout": "IPY_MODEL_2b07c1f6bfe5401ba1995c8812989499"
          }
        },
        "7939b027b98c46b99664e6793075e369": {
          "model_module": "@jupyter-widgets/controls",
          "model_module_version": "1.5.0",
          "model_name": "FloatProgressModel",
          "state": {
            "_dom_classes": [],
            "_model_module": "@jupyter-widgets/controls",
            "_model_module_version": "1.5.0",
            "_model_name": "FloatProgressModel",
            "_view_count": null,
            "_view_module": "@jupyter-widgets/controls",
            "_view_module_version": "1.5.0",
            "_view_name": "ProgressView",
            "bar_style": "info",
            "description": "",
            "description_tooltip": null,
            "layout": "IPY_MODEL_c9630696f94d4b98abc29a980c2546fb",
            "max": 1,
            "min": 0,
            "orientation": "horizontal",
            "style": "IPY_MODEL_976f2e0eca2445ec99c1e7d7b77a00ef",
            "value": 1
          }
        },
        "79eb6d0788034e96b2e1573197a93bf2": {
          "model_module": "@jupyter-widgets/controls",
          "model_module_version": "1.5.0",
          "model_name": "HTMLModel",
          "state": {
            "_dom_classes": [],
            "_model_module": "@jupyter-widgets/controls",
            "_model_module_version": "1.5.0",
            "_model_name": "HTMLModel",
            "_view_count": null,
            "_view_module": "@jupyter-widgets/controls",
            "_view_module_version": "1.5.0",
            "_view_name": "HTMLView",
            "description": "",
            "description_tooltip": null,
            "layout": "IPY_MODEL_078e00f06cc541c89fb2e6e063e8c6b5",
            "placeholder": "​",
            "style": "IPY_MODEL_800bb4098ba04332b57e46404cf8298b",
            "value": " 43/? [00:13&lt;00:00,  3.83it/s]"
          }
        },
        "800bb4098ba04332b57e46404cf8298b": {
          "model_module": "@jupyter-widgets/controls",
          "model_module_version": "1.5.0",
          "model_name": "DescriptionStyleModel",
          "state": {
            "_model_module": "@jupyter-widgets/controls",
            "_model_module_version": "1.5.0",
            "_model_name": "DescriptionStyleModel",
            "_view_count": null,
            "_view_module": "@jupyter-widgets/base",
            "_view_module_version": "1.2.0",
            "_view_name": "StyleView",
            "description_width": ""
          }
        },
        "80858edfe9c54e1eac8cd13b15d06b17": {
          "model_module": "@jupyter-widgets/controls",
          "model_module_version": "1.5.0",
          "model_name": "FloatProgressModel",
          "state": {
            "_dom_classes": [],
            "_model_module": "@jupyter-widgets/controls",
            "_model_module_version": "1.5.0",
            "_model_name": "FloatProgressModel",
            "_view_count": null,
            "_view_module": "@jupyter-widgets/controls",
            "_view_module_version": "1.5.0",
            "_view_name": "ProgressView",
            "bar_style": "danger",
            "description": "",
            "description_tooltip": null,
            "layout": "IPY_MODEL_932e2ec2d3604ce59e35b6502791806b",
            "max": 1,
            "min": 0,
            "orientation": "horizontal",
            "style": "IPY_MODEL_ca7c7d3164e948feaf056ee73b949743",
            "value": 0
          }
        },
        "87bf28ebf06c46758b44925f00c5a35c": {
          "model_module": "@jupyter-widgets/base",
          "model_module_version": "1.2.0",
          "model_name": "LayoutModel",
          "state": {
            "_model_module": "@jupyter-widgets/base",
            "_model_module_version": "1.2.0",
            "_model_name": "LayoutModel",
            "_view_count": null,
            "_view_module": "@jupyter-widgets/base",
            "_view_module_version": "1.2.0",
            "_view_name": "LayoutView",
            "align_content": null,
            "align_items": null,
            "align_self": null,
            "border": null,
            "bottom": null,
            "display": null,
            "flex": null,
            "flex_flow": null,
            "grid_area": null,
            "grid_auto_columns": null,
            "grid_auto_flow": null,
            "grid_auto_rows": null,
            "grid_column": null,
            "grid_gap": null,
            "grid_row": null,
            "grid_template_areas": null,
            "grid_template_columns": null,
            "grid_template_rows": null,
            "height": null,
            "justify_content": null,
            "justify_items": null,
            "left": null,
            "margin": null,
            "max_height": null,
            "max_width": null,
            "min_height": null,
            "min_width": null,
            "object_fit": null,
            "object_position": null,
            "order": null,
            "overflow": null,
            "overflow_x": null,
            "overflow_y": null,
            "padding": null,
            "right": null,
            "top": null,
            "visibility": null,
            "width": null
          }
        },
        "8b8e2062d2b74d569c5b505d713a394b": {
          "model_module": "@jupyter-widgets/base",
          "model_module_version": "1.2.0",
          "model_name": "LayoutModel",
          "state": {
            "_model_module": "@jupyter-widgets/base",
            "_model_module_version": "1.2.0",
            "_model_name": "LayoutModel",
            "_view_count": null,
            "_view_module": "@jupyter-widgets/base",
            "_view_module_version": "1.2.0",
            "_view_name": "LayoutView",
            "align_content": null,
            "align_items": null,
            "align_self": null,
            "border": null,
            "bottom": null,
            "display": null,
            "flex": null,
            "flex_flow": null,
            "grid_area": null,
            "grid_auto_columns": null,
            "grid_auto_flow": null,
            "grid_auto_rows": null,
            "grid_column": null,
            "grid_gap": null,
            "grid_row": null,
            "grid_template_areas": null,
            "grid_template_columns": null,
            "grid_template_rows": null,
            "height": null,
            "justify_content": null,
            "justify_items": null,
            "left": null,
            "margin": null,
            "max_height": null,
            "max_width": null,
            "min_height": null,
            "min_width": null,
            "object_fit": null,
            "object_position": null,
            "order": null,
            "overflow": null,
            "overflow_x": null,
            "overflow_y": null,
            "padding": null,
            "right": null,
            "top": null,
            "visibility": null,
            "width": null
          }
        },
        "932e2ec2d3604ce59e35b6502791806b": {
          "model_module": "@jupyter-widgets/base",
          "model_module_version": "1.2.0",
          "model_name": "LayoutModel",
          "state": {
            "_model_module": "@jupyter-widgets/base",
            "_model_module_version": "1.2.0",
            "_model_name": "LayoutModel",
            "_view_count": null,
            "_view_module": "@jupyter-widgets/base",
            "_view_module_version": "1.2.0",
            "_view_name": "LayoutView",
            "align_content": null,
            "align_items": null,
            "align_self": null,
            "border": null,
            "bottom": null,
            "display": null,
            "flex": null,
            "flex_flow": null,
            "grid_area": null,
            "grid_auto_columns": null,
            "grid_auto_flow": null,
            "grid_auto_rows": null,
            "grid_column": null,
            "grid_gap": null,
            "grid_row": null,
            "grid_template_areas": null,
            "grid_template_columns": null,
            "grid_template_rows": null,
            "height": null,
            "justify_content": null,
            "justify_items": null,
            "left": null,
            "margin": null,
            "max_height": null,
            "max_width": null,
            "min_height": null,
            "min_width": null,
            "object_fit": null,
            "object_position": null,
            "order": null,
            "overflow": null,
            "overflow_x": null,
            "overflow_y": null,
            "padding": null,
            "right": null,
            "top": null,
            "visibility": null,
            "width": "20px"
          }
        },
        "935265f82666427b8758e4f78c46bcf6": {
          "model_module": "@jupyter-widgets/base",
          "model_module_version": "1.2.0",
          "model_name": "LayoutModel",
          "state": {
            "_model_module": "@jupyter-widgets/base",
            "_model_module_version": "1.2.0",
            "_model_name": "LayoutModel",
            "_view_count": null,
            "_view_module": "@jupyter-widgets/base",
            "_view_module_version": "1.2.0",
            "_view_name": "LayoutView",
            "align_content": null,
            "align_items": null,
            "align_self": null,
            "border": null,
            "bottom": null,
            "display": null,
            "flex": null,
            "flex_flow": null,
            "grid_area": null,
            "grid_auto_columns": null,
            "grid_auto_flow": null,
            "grid_auto_rows": null,
            "grid_column": null,
            "grid_gap": null,
            "grid_row": null,
            "grid_template_areas": null,
            "grid_template_columns": null,
            "grid_template_rows": null,
            "height": null,
            "justify_content": null,
            "justify_items": null,
            "left": null,
            "margin": null,
            "max_height": null,
            "max_width": null,
            "min_height": null,
            "min_width": null,
            "object_fit": null,
            "object_position": null,
            "order": null,
            "overflow": null,
            "overflow_x": null,
            "overflow_y": null,
            "padding": null,
            "right": null,
            "top": null,
            "visibility": null,
            "width": null
          }
        },
        "976f2e0eca2445ec99c1e7d7b77a00ef": {
          "model_module": "@jupyter-widgets/controls",
          "model_module_version": "1.5.0",
          "model_name": "ProgressStyleModel",
          "state": {
            "_model_module": "@jupyter-widgets/controls",
            "_model_module_version": "1.5.0",
            "_model_name": "ProgressStyleModel",
            "_view_count": null,
            "_view_module": "@jupyter-widgets/base",
            "_view_module_version": "1.2.0",
            "_view_name": "StyleView",
            "bar_color": null,
            "description_width": ""
          }
        },
        "9d32f91a388e424cb46e27f889f505b9": {
          "model_module": "@jupyter-widgets/controls",
          "model_module_version": "1.5.0",
          "model_name": "HTMLModel",
          "state": {
            "_dom_classes": [],
            "_model_module": "@jupyter-widgets/controls",
            "_model_module_version": "1.5.0",
            "_model_name": "HTMLModel",
            "_view_count": null,
            "_view_module": "@jupyter-widgets/controls",
            "_view_module_version": "1.5.0",
            "_view_name": "HTMLView",
            "description": "",
            "description_tooltip": null,
            "layout": "IPY_MODEL_87bf28ebf06c46758b44925f00c5a35c",
            "placeholder": "​",
            "style": "IPY_MODEL_221f9fa75ddc46fdb57937621bc8b6a1",
            "value": " 0/? [00:00&lt;?, ?it/s]"
          }
        },
        "a47a69fc40494c2ea640cd39f6c7b6d1": {
          "model_module": "@jupyter-widgets/base",
          "model_module_version": "1.2.0",
          "model_name": "LayoutModel",
          "state": {
            "_model_module": "@jupyter-widgets/base",
            "_model_module_version": "1.2.0",
            "_model_name": "LayoutModel",
            "_view_count": null,
            "_view_module": "@jupyter-widgets/base",
            "_view_module_version": "1.2.0",
            "_view_name": "LayoutView",
            "align_content": null,
            "align_items": null,
            "align_self": null,
            "border": null,
            "bottom": null,
            "display": null,
            "flex": null,
            "flex_flow": null,
            "grid_area": null,
            "grid_auto_columns": null,
            "grid_auto_flow": null,
            "grid_auto_rows": null,
            "grid_column": null,
            "grid_gap": null,
            "grid_row": null,
            "grid_template_areas": null,
            "grid_template_columns": null,
            "grid_template_rows": null,
            "height": null,
            "justify_content": null,
            "justify_items": null,
            "left": null,
            "margin": null,
            "max_height": null,
            "max_width": null,
            "min_height": null,
            "min_width": null,
            "object_fit": null,
            "object_position": null,
            "order": null,
            "overflow": null,
            "overflow_x": null,
            "overflow_y": null,
            "padding": null,
            "right": null,
            "top": null,
            "visibility": null,
            "width": null
          }
        },
        "bc478631a7704b32bb6f1d287a7d9850": {
          "model_module": "@jupyter-widgets/controls",
          "model_module_version": "1.5.0",
          "model_name": "HTMLModel",
          "state": {
            "_dom_classes": [],
            "_model_module": "@jupyter-widgets/controls",
            "_model_module_version": "1.5.0",
            "_model_name": "HTMLModel",
            "_view_count": null,
            "_view_module": "@jupyter-widgets/controls",
            "_view_module_version": "1.5.0",
            "_view_name": "HTMLView",
            "description": "",
            "description_tooltip": null,
            "layout": "IPY_MODEL_8b8e2062d2b74d569c5b505d713a394b",
            "placeholder": "​",
            "style": "IPY_MODEL_4ce95de7a42442468ef1f7d22bf9fb7b",
            "value": " 61/? [00:04&lt;00:00, 16.08it/s]"
          }
        },
        "c6d01faaa81243dbb662446c6ca204ae": {
          "model_module": "@jupyter-widgets/controls",
          "model_module_version": "1.5.0",
          "model_name": "ProgressStyleModel",
          "state": {
            "_model_module": "@jupyter-widgets/controls",
            "_model_module_version": "1.5.0",
            "_model_name": "ProgressStyleModel",
            "_view_count": null,
            "_view_module": "@jupyter-widgets/base",
            "_view_module_version": "1.2.0",
            "_view_name": "StyleView",
            "bar_color": null,
            "description_width": ""
          }
        },
        "c9630696f94d4b98abc29a980c2546fb": {
          "model_module": "@jupyter-widgets/base",
          "model_module_version": "1.2.0",
          "model_name": "LayoutModel",
          "state": {
            "_model_module": "@jupyter-widgets/base",
            "_model_module_version": "1.2.0",
            "_model_name": "LayoutModel",
            "_view_count": null,
            "_view_module": "@jupyter-widgets/base",
            "_view_module_version": "1.2.0",
            "_view_name": "LayoutView",
            "align_content": null,
            "align_items": null,
            "align_self": null,
            "border": null,
            "bottom": null,
            "display": null,
            "flex": null,
            "flex_flow": null,
            "grid_area": null,
            "grid_auto_columns": null,
            "grid_auto_flow": null,
            "grid_auto_rows": null,
            "grid_column": null,
            "grid_gap": null,
            "grid_row": null,
            "grid_template_areas": null,
            "grid_template_columns": null,
            "grid_template_rows": null,
            "height": null,
            "justify_content": null,
            "justify_items": null,
            "left": null,
            "margin": null,
            "max_height": null,
            "max_width": null,
            "min_height": null,
            "min_width": null,
            "object_fit": null,
            "object_position": null,
            "order": null,
            "overflow": null,
            "overflow_x": null,
            "overflow_y": null,
            "padding": null,
            "right": null,
            "top": null,
            "visibility": null,
            "width": "20px"
          }
        },
        "ca7c7d3164e948feaf056ee73b949743": {
          "model_module": "@jupyter-widgets/controls",
          "model_module_version": "1.5.0",
          "model_name": "ProgressStyleModel",
          "state": {
            "_model_module": "@jupyter-widgets/controls",
            "_model_module_version": "1.5.0",
            "_model_name": "ProgressStyleModel",
            "_view_count": null,
            "_view_module": "@jupyter-widgets/base",
            "_view_module_version": "1.2.0",
            "_view_name": "StyleView",
            "bar_color": null,
            "description_width": ""
          }
        },
        "e224bfc66dab4840aad30e97b57e22a2": {
          "model_module": "@jupyter-widgets/controls",
          "model_module_version": "1.5.0",
          "model_name": "HTMLModel",
          "state": {
            "_dom_classes": [],
            "_model_module": "@jupyter-widgets/controls",
            "_model_module_version": "1.5.0",
            "_model_name": "HTMLModel",
            "_view_count": null,
            "_view_module": "@jupyter-widgets/controls",
            "_view_module_version": "1.5.0",
            "_view_name": "HTMLView",
            "description": "",
            "description_tooltip": null,
            "layout": "IPY_MODEL_935265f82666427b8758e4f78c46bcf6",
            "placeholder": "​",
            "style": "IPY_MODEL_011ba755303a46cc9091208c583739a7",
            "value": "Batch: "
          }
        },
        "f167e0e39cba4860a3be6cf9ef47df43": {
          "model_module": "@jupyter-widgets/controls",
          "model_module_version": "1.5.0",
          "model_name": "DescriptionStyleModel",
          "state": {
            "_model_module": "@jupyter-widgets/controls",
            "_model_module_version": "1.5.0",
            "_model_name": "DescriptionStyleModel",
            "_view_count": null,
            "_view_module": "@jupyter-widgets/base",
            "_view_module_version": "1.2.0",
            "_view_name": "StyleView",
            "description_width": ""
          }
        },
        "f3914d57d9dc481c8b62498b2bb2ff43": {
          "model_module": "@jupyter-widgets/base",
          "model_module_version": "1.2.0",
          "model_name": "LayoutModel",
          "state": {
            "_model_module": "@jupyter-widgets/base",
            "_model_module_version": "1.2.0",
            "_model_name": "LayoutModel",
            "_view_count": null,
            "_view_module": "@jupyter-widgets/base",
            "_view_module_version": "1.2.0",
            "_view_name": "LayoutView",
            "align_content": null,
            "align_items": null,
            "align_self": null,
            "border": null,
            "bottom": null,
            "display": null,
            "flex": null,
            "flex_flow": null,
            "grid_area": null,
            "grid_auto_columns": null,
            "grid_auto_flow": null,
            "grid_auto_rows": null,
            "grid_column": null,
            "grid_gap": null,
            "grid_row": null,
            "grid_template_areas": null,
            "grid_template_columns": null,
            "grid_template_rows": null,
            "height": null,
            "justify_content": null,
            "justify_items": null,
            "left": null,
            "margin": null,
            "max_height": null,
            "max_width": null,
            "min_height": null,
            "min_width": null,
            "object_fit": null,
            "object_position": null,
            "order": null,
            "overflow": null,
            "overflow_x": null,
            "overflow_y": null,
            "padding": null,
            "right": null,
            "top": null,
            "visibility": null,
            "width": "20px"
          }
        }
      }
    }
  },
  "nbformat": 4,
  "nbformat_minor": 0
}
